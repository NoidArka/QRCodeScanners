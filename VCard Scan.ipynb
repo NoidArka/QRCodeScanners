{
 "cells": [
  {
   "cell_type": "code",
   "execution_count": 3,
   "metadata": {},
   "outputs": [],
   "source": [
    "import matplotlib.pyplot as plt; plt.rcdefaults()\n",
    "import numpy as np\n",
    "from pyzbar import pyzbar\n",
    "import cv2\n",
    "import vobject"
   ]
  },
  {
   "cell_type": "code",
   "execution_count": 4,
   "metadata": {},
   "outputs": [],
   "source": [
    "%matplotlib inline"
   ]
  },
  {
   "cell_type": "code",
   "execution_count": 5,
   "metadata": {},
   "outputs": [],
   "source": [
    "def parse_vcard(vcard):\n",
    "    return {vcard.contents['fn'][0].value: [tel.value for tel in vcard.contents['tel']] }"
   ]
  },
  {
   "cell_type": "code",
   "execution_count": 6,
   "metadata": {},
   "outputs": [],
   "source": [
    "def process_contact(d):\n",
    "    for key, value in d.items(): \n",
    "        print (key, value[0]) "
   ]
  },
  {
   "cell_type": "code",
   "execution_count": 7,
   "metadata": {},
   "outputs": [],
   "source": [
    "def show_code(image,barcodes):\n",
    "    # loop over the detected barcodes\n",
    "    for barcode in barcodes:\n",
    "        # extract the bounding box location of the barcode and draw the\n",
    "        # bounding box surrounding the barcode on the image\n",
    "        (x, y, w, h) = barcode.rect\n",
    "        cv2.rectangle(image, (x, y), (x + w, y + h), (0, 0, 255), 2)\n",
    "\n",
    "        # the barcode data is a bytes object so if we want to draw it on\n",
    "        # our output image we need to convert it to a string first\n",
    "        barcodeData = barcode.data.decode(\"utf-8\")\n",
    "        barcodeType = barcode.type\n",
    "\n",
    "        # draw the barcode data and barcode type on the image\n",
    "        text = \"{}\".format(barcodeType)\n",
    "        cv2.putText(image, text, (x, y - 10), cv2.FONT_HERSHEY_SIMPLEX,\n",
    "            0.5, (0, 0, 255), 2)\n",
    "\n",
    "        # print the barcode type and data to the terminal\n",
    "        #print(\"[INFO] Found {} barcode: {}\".format(barcodeType, barcodeData))\n",
    "        #print(dir(barcodeData))\n",
    "        vcard = vobject.readOne(barcodeData)\n",
    "        d = parse_vcard(vcard)\n",
    "        process_contact(d)\n",
    " \n",
    "    # show the output image\n",
    "    cv2.imshow(\"Image\", image)\n",
    "    cv2.waitKey(0)"
   ]
  },
  {
   "cell_type": "code",
   "execution_count": 12,
   "metadata": {},
   "outputs": [],
   "source": [
    "# load the input image\n",
    "# image = cv2.imread('Vcard1.jpg')\n",
    "cap = cv2.VideoCapture(0)\n",
    "ret, image = cap.read()\n",
    "\n",
    "# find the barcodes in the image and decode each of the barcodes\n",
    "barcodes = pyzbar.decode(image)"
   ]
  },
  {
   "cell_type": "code",
   "execution_count": 13,
   "metadata": {},
   "outputs": [],
   "source": [
    "show_code(image,barcodes)"
   ]
  },
  {
   "cell_type": "code",
   "execution_count": 69,
   "metadata": {},
   "outputs": [],
   "source": [
    "cap.release()"
   ]
  },
  {
   "cell_type": "code",
   "execution_count": null,
   "metadata": {},
   "outputs": [],
   "source": []
  },
  {
   "cell_type": "code",
   "execution_count": null,
   "metadata": {},
   "outputs": [],
   "source": []
  }
 ],
 "metadata": {
  "kernelspec": {
   "display_name": "Python 3",
   "language": "python",
   "name": "python3"
  },
  "language_info": {
   "codemirror_mode": {
    "name": "ipython",
    "version": 3
   },
   "file_extension": ".py",
   "mimetype": "text/x-python",
   "name": "python",
   "nbconvert_exporter": "python",
   "pygments_lexer": "ipython3",
   "version": "3.7.2"
  }
 },
 "nbformat": 4,
 "nbformat_minor": 2
}
